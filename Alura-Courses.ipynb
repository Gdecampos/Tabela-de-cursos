{
 "cells": [
  {
   "cell_type": "code",
   "execution_count": 2,
   "metadata": {},
   "outputs": [
    {
     "data": {
      "text/plain": [
       "['Arquiteto PHP',\n",
       " 'Arquitetura e Design de Projetos Java',\n",
       " 'ASP.NET Core REST APIs',\n",
       " 'Avançando em PHP',\n",
       " 'Boas práticas em C#',\n",
       " 'Boas práticas em PHP',\n",
       " 'C# e orientação a objetos',\n",
       " 'Carreira QA: processos e automação de testes',\n",
       " 'Acessibilidade Web',\n",
       " 'Angular',\n",
       " 'Front-end',\n",
       " 'HTML e CSS',\n",
       " 'Next JS',\n",
       " 'React com TypeScript',\n",
       " 'TypeScript',\n",
       " 'Vue.js 2',\n",
       " 'BI e Data Warehouse com Pentaho',\n",
       " 'BI e Data Warehouse com SQL Server e Power BI',\n",
       " 'Data Analysis com Google Sheets',\n",
       " 'Data Science',\n",
       " 'Datomic',\n",
       " 'Deep Learning com Pytorch',\n",
       " 'Estatística com Python',\n",
       " 'Estatística com R',\n",
       " 'Administrador de Redes',\n",
       " 'Amazon Web Services',\n",
       " 'Apache Kafka',\n",
       " 'AWS Certified Cloud Practitioner',\n",
       " 'AWS Certified Solutions Architect - Associate',\n",
       " 'Certificação AZ-900: Microsoft Azure Fundamentals',\n",
       " 'Certificação Docker DCA',\n",
       " 'Certificação LPI Linux Essentials',\n",
       " 'Adobe Mobile',\n",
       " 'Adobe XD',\n",
       " 'Blender',\n",
       " 'Desenho básico',\n",
       " 'Desenvolvimento de Carreira em UX',\n",
       " 'Design de Jogos',\n",
       " 'Design Gráfico',\n",
       " 'Design System',\n",
       " 'Android',\n",
       " 'Android com Kotlin',\n",
       " 'Arquitetura Android',\n",
       " 'Firebase com Android',\n",
       " 'Flutter',\n",
       " 'iOS',\n",
       " 'React Native',\n",
       " 'Testes automatizados no Android',\n",
       " 'Aprendizagem',\n",
       " 'Business Agility',\n",
       " 'Certificação Cobit 5',\n",
       " 'Certificação da biblioteca de infraestrutura de tecnologia da informação - Fundamentos v3',\n",
       " 'Certificação PMP e CAPM do PMI',\n",
       " 'Comunicação',\n",
       " 'Comunicação para líderes',\n",
       " 'Criatividade']"
      ]
     },
     "execution_count": 2,
     "metadata": {},
     "output_type": "execute_result"
    }
   ],
   "source": [
    "from urllib.request import urlopen, Request\n",
    "from urllib.error import URLError, HTTPError\n",
    "from bs4 import BeautifulSoup\n",
    "\n",
    "# URL de acesso\n",
    "url = 'https://alura.com.br'\n",
    "headers = {'user-agent': 'Mozilla/5.0 (X11; Linux x86_64) AppleWebKit/537.36 (KHTML, like Gecko) Chrome/99.0.4844.51 Safari/537.36'}\n",
    "\n",
    "# Requisitando acesso a URL\n",
    "try:\n",
    "    req = Request(url, headers = headers)\n",
    "    response = urlopen(req)\n",
    "    html = response.read().decode('utf-8') # Decode\n",
    "    soup = BeautifulSoup(html, 'html.parser') # Criando objeto soup\n",
    "    \n",
    "except HTTPError as e:\n",
    "    print(e.status, e.reason)\n",
    "\n",
    "except URLError as e:\n",
    "    print(e.reason)\n",
    "\n",
    "# Selecionando dados\n",
    "titles = []\n",
    "courses = []\n",
    "\n",
    "rough_titles = soup.find('ul', {'class': 'careers__list'}).findAll('h3')\n",
    "for rough_title in rough_titles:\n",
    "    titles.append(rough_title.getText())\n",
    "\n",
    "rough_courses = soup.find('ul', {'class': 'careers__list'}).findAll('li', class_ = 'careers__list__item__list__item')\n",
    "for rough_course in rough_courses:\n",
    "    courses.append(rough_course.getText().strip())\n",
    "\n",
    "courses"
   ]
  },
  {
   "cell_type": "code",
   "execution_count": null,
   "metadata": {},
   "outputs": [],
   "source": []
  }
 ],
 "metadata": {
  "interpreter": {
   "hash": "7b5e7e6bd81ce6cf92c4ec268efb9c2f6a0e54f3ca70ade0ed2f7e7bb0333568"
  },
  "kernelspec": {
   "display_name": "Python 3.9.7 ('base')",
   "language": "python",
   "name": "python3"
  },
  "language_info": {
   "codemirror_mode": {
    "name": "ipython",
    "version": 3
   },
   "file_extension": ".py",
   "mimetype": "text/x-python",
   "name": "python",
   "nbconvert_exporter": "python",
   "pygments_lexer": "ipython3",
   "version": "3.9.7"
  },
  "orig_nbformat": 4
 },
 "nbformat": 4,
 "nbformat_minor": 2
}
